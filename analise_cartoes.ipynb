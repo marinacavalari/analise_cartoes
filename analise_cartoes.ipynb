{
 "cells": [
  {
   "cell_type": "markdown",
   "metadata": {},
   "source": [
    "# Credit card analysis"
   ]
  },
  {
   "cell_type": "code",
   "execution_count": 83,
   "metadata": {},
   "outputs": [],
   "source": [
    "import pandas as pd\n",
    "import matplotlib.pyplot as plt\n",
    "import seaborn as sns\n",
    "%matplotlib inline\n",
    "\n",
    "plt.style.use('ggplot')\n",
    "credit_card = pd.read_csv('credit_card.csv')"
   ]
  },
  {
   "cell_type": "markdown",
   "metadata": {},
   "source": [
    "## Context"
   ]
  },
  {
   "cell_type": "markdown",
   "metadata": {},
   "source": [
    "Nowadays, most of people use credit cards to all kind of payment, and its getting more and more frequently everyday.\n",
    "In that sense, incontables fintechs and banks are trying to keep their custumers as happy as possible with the services offereded. From a dataset about credit card usage and customer's preference, we can draw a kind of specific and apropriate product to each kind of a company customer. We currently have 3 kinds of rewards offered by our company, this document's goal is to show us the most effective and if we are able to create a new one to replace or agregate our grid of benefits."
   ]
  },
  {
   "cell_type": "markdown",
   "metadata": {},
   "source": [
    "## Hypothesis"
   ]
  },
  {
   "cell_type": "markdown",
   "metadata": {},
   "source": [
    "There are two hypotheses underlying this study:\n",
    "- The first one is that all customers use the credit cards with the same proposits: acummulate rewards,   whatever the rewards is;\n",
    "- The second one is that most of customers preferer rewards known as air miles and we would like to develop something special to this kind of public;"
   ]
  },
  {
   "cell_type": "markdown",
   "metadata": {},
   "source": [
    "## Objectives"
   ]
  },
  {
   "cell_type": "markdown",
   "metadata": {},
   "source": [
    "Our first goal is to understand how the custumer develop hers habits using credit card and what she expect from it as reward or not; And, once the credit card is a key in the customer's routine, how its impacted by lifestyle and preferences. "
   ]
  },
  {
   "cell_type": "markdown",
   "metadata": {},
   "source": [
    "## Metrics"
   ]
  },
  {
   "cell_type": "markdown",
   "metadata": {},
   "source": [
    "The program of rewards in a credit card has a simple objective: Retain the client and make she more active in our plataform. Our main performance indicator of success key is the rate of customers sticking to our reward's program and how it can be more atractive to them and profitable. For this study, we choose to look upon a sample of transactions reflecting a year of credit card uses from different customers profiles.\n"
   ]
  },
  {
   "cell_type": "markdown",
   "metadata": {},
   "source": [
    "## Decisions to be made upon results"
   ]
  },
  {
   "cell_type": "markdown",
   "metadata": {},
   "source": [
    "Based on the results, we're going to decided wheter or not to create a new category of reward for different kinds of customers, and if we decide to create, wich is the best option to approach theses customers under our plataform, keeping an eye on our main aspect and giving the best experience to them.\n"
   ]
  },
  {
   "cell_type": "markdown",
   "metadata": {},
   "source": [
    "## Test Structure and Groups\n"
   ]
  },
  {
   "cell_type": "markdown",
   "metadata": {},
   "source": [
    "The kind of reward can be chosen by our customers, and we have three main choices: `Air miles`, `CashBack` and `Points`; And our customers are clasified by their income level that it's associated with their lifestyle and habits.\n",
    "Our distribution of clients by rewards's category is the one as detailed below:"
   ]
  },
  {
   "cell_type": "code",
   "execution_count": 79,
   "metadata": {},
   "outputs": [
    {
     "data": {
      "image/png": "[encoded data removed]",
      "text/plain": [
       "<Figure size 432x288 with 1 Axes>"
      ]
     },
     "metadata": {},
     "output_type": "display_data"
    }
   ],
   "source": [
    "explode = (0.1, 0, 0)\n",
    "\n",
    "rewards_df = credit_card['Reward']\n",
    "\n",
    "rewards_counts = rewards_df.value_counts().tolist()\n",
    "rewards = rewards_df.drop_duplicates().tolist()\n",
    "\n",
    "_, ax1 = plt.subplots()\n",
    "ax1.pie(rewards_counts, explode=explode, labels=rewards, autopct='%1.2f%%', shadow=False, startangle=360, colors=['indigo', 'purple', 'orchid'])\n",
    "ax1.axis('equal') \n",
    "plt.title('1. Most Popular Rewards')\n",
    "plt.show()"
   ]
  },
  {
   "cell_type": "markdown",
   "metadata": {},
   "source": [
    "Our main customers are medium level income, and our products are desinged to them, but with this study we'd like to creat a new approach to other kind of clients and increase our revenues and the power of our brand. \n",
    "\n",
    "The percentage or our customers are below, as so their preferences: "
   ]
  },
  {
   "cell_type": "code",
   "execution_count": 82,
   "metadata": {},
   "outputs": [
    {
     "data": {
      "text/html": [
       "<div>\n",
       "<style scoped>\n",
       "    .dataframe tbody tr th:only-of-type {\n",
       "        vertical-align: middle;\n",
       "    }\n",
       "\n",
       "    .dataframe tbody tr th {\n",
       "        vertical-align: top;\n",
       "    }\n",
       "\n",
       "    .dataframe thead th {\n",
       "        text-align: right;\n",
       "    }\n",
       "</style>\n",
       "<table border=\"1\" class=\"dataframe\">\n",
       "  <thead>\n",
       "    <tr style=\"text-align: right;\">\n",
       "      <th>Reward</th>\n",
       "      <th>Air Miles</th>\n",
       "      <th>Cash Back</th>\n",
       "      <th>Points</th>\n",
       "      <th>Total</th>\n",
       "      <th>% Customers</th>\n",
       "    </tr>\n",
       "    <tr>\n",
       "      <th>Income Level</th>\n",
       "      <th></th>\n",
       "      <th></th>\n",
       "      <th></th>\n",
       "      <th></th>\n",
       "      <th></th>\n",
       "    </tr>\n",
       "  </thead>\n",
       "  <tbody>\n",
       "    <tr>\n",
       "      <td>High</td>\n",
       "      <td>1494</td>\n",
       "      <td>1538</td>\n",
       "      <td>1494</td>\n",
       "      <td>4526</td>\n",
       "      <td>25.1%</td>\n",
       "    </tr>\n",
       "    <tr>\n",
       "      <td>Low</td>\n",
       "      <td>1538</td>\n",
       "      <td>1467</td>\n",
       "      <td>1456</td>\n",
       "      <td>4461</td>\n",
       "      <td>24.8%</td>\n",
       "    </tr>\n",
       "    <tr>\n",
       "      <td>Medium</td>\n",
       "      <td>3029</td>\n",
       "      <td>2994</td>\n",
       "      <td>2990</td>\n",
       "      <td>9013</td>\n",
       "      <td>50.1%</td>\n",
       "    </tr>\n",
       "  </tbody>\n",
       "</table>\n",
       "</div>"
      ],
      "text/plain": [
       "Reward        Air Miles  Cash Back  Points  Total % Customers\n",
       "Income Level                                                 \n",
       "High               1494       1538    1494   4526       25.1%\n",
       "Low                1538       1467    1456   4461       24.8%\n",
       "Medium             3029       2994    2990   9013       50.1%"
      ]
     },
     "execution_count": 82,
     "metadata": {},
     "output_type": "execute_result"
    }
   ],
   "source": [
    "df_cross_data = pd.crosstab(credit_card['Income Level'], credit_card['Reward'])\n",
    "df_cross_data['Total'] = df_cross_data.sum(axis=1)\n",
    "df_cross_data['% Customers'] = credit_card['Income Level'].value_counts(normalize=True).mul(100).round(1).astype(str) + '%'\n",
    "df_cross_data"
   ]
  },
  {
   "cell_type": "markdown",
   "metadata": {},
   "source": [
    "As demonstrated in our table above, our client is very faithful to our methods and rewards, and we can take the following conclusion based in our second chart (below): \n",
    "- Most of our customers' spending is rewarded by `Air Miles`, so the financial volume and number of subscribers is higher in this category, but the audience that prefers Cashback has grown a lot over new business and technology advances, and thus we need to adapt our business model to satisfy this beech of the public and have greater market share."
   ]
  },
  {
   "cell_type": "code",
   "execution_count": 81,
   "metadata": {},
   "outputs": [
    {
     "data": {
      "image/png": "[encoded data removed]",
      "text/plain": [
       "<Figure size 576x288 with 1 Axes>"
      ]
     },
     "metadata": {},
     "output_type": "display_data"
    }
   ],
   "source": [
    "df = credit_card[['Average Balance','Reward']]\n",
    "df = df.groupby('Reward').sum()\n",
    "\n",
    "ax = df.plot(kind='bar', figsize=(8,4), color = ['indigo', 'purple', 'orchid'], fontsize=13, legend = None);\n",
    "ax.set_yticks([ 2000000, 4000000, 6000000, 8000000])\n",
    "plt.title('2. Balance by Reward')\n",
    "\n",
    "for i in ax.patches:\n",
    "    ax.text(i.get_x() - 0.10, i.get_height() + 200000, \\\n",
    "            ('${:,.2f}'.format(i.get_height())), fontsize=14, color='black',\n",
    "                rotation=0)"
   ]
  },
  {
   "cell_type": "markdown",
   "metadata": {},
   "source": [
    "## Conclusion"
   ]
  },
  {
   "cell_type": "markdown",
   "metadata": {},
   "source": [
    "Our main goal is to be present in people's lives and reward them through their spending. When we perform these types of analyzes, we seek to understand the profile of our customers and how they behave, thereby generating a worthwhile differential for our customer. Thus we find two niche markets that may be paramount to our development: Our most loyal clients and new clients looking for new solutions to their financial lives. Creating a specific product for each type of customer is a solution that will make old customers like our company even more and even spread it to friends and families, increasing our impact as a brand; And the creation of a product specific to new customers, with greater competitive advantages, such as points that never expire, or combinable points, that he can have access to any type of product or discounts on his invoices or cashbacks."
   ]
  },
  {
   "cell_type": "markdown",
   "metadata": {},
   "source": [
    "## Next Steps"
   ]
  },
  {
   "cell_type": "markdown",
   "metadata": {},
   "source": [
    "1. Given that we have to kind of publics in our target, we have to draw different kind of approachs and products;\n",
    "2. We should focus on our second type of audience, and start sending notifications and pushs with double score boosts, and high return of cash back at certain times of the day, such as at lunchtime or on weekends, to encourage card usage and increase revenue through it.\n",
    "3. The product that should be developed for loyal customers in the area should be partnered with air travel companies to offer better rates and conditions to customers, and the higher the level of spending and use of cards, the greater the benefits with airline tickets. last minute promotion, even discount coupons sent via random notifications to certain customer groups."
   ]
  }
 ],
 "metadata": {
  "kernelspec": {
   "display_name": "Python 3",
   "language": "python",
   "name": "python3"
  },
  "language_info": {
   "codemirror_mode": {
    "name": "ipython",
    "version": 3
   },
   "file_extension": ".py",
   "mimetype": "text/x-python",
   "name": "python",
   "nbconvert_exporter": "python",
   "pygments_lexer": "ipython3",
   "version": "3.7.5"
  }
 },
 "nbformat": 4,
 "nbformat_minor": 2
}

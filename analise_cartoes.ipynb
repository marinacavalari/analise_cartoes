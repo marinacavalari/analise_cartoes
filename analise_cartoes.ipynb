{
 "cells": [
  {
   "cell_type": "code",
   "execution_count": 59,
   "metadata": {
    "collapsed": false
   },
   "outputs": [],
   "source": [
    "%matplotlib inline\n",
    "import pandas as pd\n",
    "import matplotlib.pyplot as plt\n",
    "import seaborn as sns\n",
    "plt.style.use('ggplot')\n",
    "credit_card = pd.read_csv('credit_card.csv')\n",
    "\n",
    "recompensas = credit_card['Reward'].value_counts()\n",
    "size = recompensas.tolist()\n",
    "\n",
    "recompensas = credit_card['Reward'].drop_duplicates()\n",
    "recompensas = recompensas.tolist()\n",
    "\n",
    "labels = recompensas\n",
    "sizes = size\n",
    "explode = (0.1, 0, 0)\n",
    "\n",
    "df = credit_card[['Average Balance','Reward']]\n",
    "df = df.groupby('Reward').sum()"
   ]
  },
  {
   "cell_type": "markdown",
   "metadata": {},
   "source": [
    "# Context"
   ]
  },
  {
   "cell_type": "markdown",
   "metadata": {},
   "source": [
    "\n",
    "<p>     Nowadays, most of people use credit cards to all kind of payment, and its getting more and more frequently everyday.\n",
    "In that sense, incontables fintechs and banks are trying to keep their costumers as happy as possible with tthe services offereded. From a dataset about credit card usage and customers preferences we can draw a kind of product specific and apropriate to each kind of customer of a company. We currently have 3 kinds of rewards offered by our company and this document's goal is to show us the most effective and if we'd be able to create a new one to replace or agregate our grid of benefits.\n",
    "</p>"
   ]
  },
  {
   "cell_type": "markdown",
   "metadata": {},
   "source": [
    "# Hypothesis"
   ]
  },
  {
   "cell_type": "markdown",
   "metadata": {},
   "source": [
    "\n",
    "<p> There are two hypotheses underlying this study:\n",
    "    <center><div> - The First one is that all customers uses the credit cards with the same proposits: acummulate rewards, whatever the rewards is; </div></center>\n",
    "     <center><div> - The Second one is that most of customers preferer rewards known as air miles and e'd like to develop something especial to this kind of public;</div></center>\n",
    "</p>"
   ]
  },
  {
   "cell_type": "markdown",
   "metadata": {},
   "source": [
    "# Objectives"
   ]
  },
  {
   "cell_type": "markdown",
   "metadata": {},
   "source": [
    "\n",
    "<p> Our first goal is to understand how the costumer develop hers habits using credit cards and what she expect from it as reward or not; And, once the credit card is a key in a customers routine, how its impacted by lifestyle and preferences. \n",
    "</p>"
   ]
  },
  {
   "cell_type": "markdown",
   "metadata": {},
   "source": [
    "# Metrics"
   ]
  },
  {
   "cell_type": "markdown",
   "metadata": {},
   "source": [
    "\n",
    "<p> The program of rewards in a credit card has a simple objective: Retain the client and make she more active in our plataform. Our main key performance indicator of success is the rate of customers sticking to our reward program and how it can be more atractive to them and profitable. For this study, we choose to look upon a sample of transactions reflecting a year of credit card uses from different customers profiles.\n",
    "</p>\n"
   ]
  },
  {
   "cell_type": "markdown",
   "metadata": {},
   "source": [
    "# Decisions to be made upon results"
   ]
  },
  {
   "cell_type": "markdown",
   "metadata": {},
   "source": [
    "\n",
    "<p> Based on the results, we're going to decided wheter or not to create a new category of reward for differente kind os customerss, and if we decided to create, wich is the best option to approach theses customer under our plataform, keeping an eye on our main aspect and giving the best experience to our customer.\n",
    "</p>\n"
   ]
  },
  {
   "cell_type": "markdown",
   "metadata": {},
   "source": [
    "# Test Structure and Groups\n"
   ]
  },
  {
   "cell_type": "markdown",
   "metadata": {},
   "source": [
    "<p>The kind of reward can be choose by our customers, and we have three main fronts: <b>Air miles Rewards</b>, <b>CashBack</b>, <b>Points</b>; And our customers are clasified by their income level, and it's associated with ther lifestyle and habits.\n",
    "Our distribution of clients per category of rewrds is the one as detailed below:\n",
    "</p>\n"
   ]
  },
  {
   "cell_type": "code",
   "execution_count": 75,
   "metadata": {
    "collapsed": false
   },
   "outputs": [
    {
     "data": {
      "image/png": "[encoded data removed]",
      "text/plain": [
       "<matplotlib.figure.Figure at 0x2ac36471320>"
      ]
     },
     "metadata": {},
     "output_type": "display_data"
    }
   ],
   "source": [
    "fig1, ax1 = plt.subplots()\n",
    "ax1.pie(sizes, explode=explode, labels=labels, autopct='%1.2f%%', shadow=False, startangle=360)\n",
    "ax1.axis('equal') \n",
    "plt.title('1. Most Popular Rewards')\n",
    "rewards_chart = plt.show()\n",
    "rewards_chart"
   ]
  },
  {
   "cell_type": "markdown",
   "metadata": {},
   "source": [
    "Our main customers are medium level income, and our products are desinged to them, but with this study we'd like to creat a new approach to other kind of clients and increase our revenues and the power of our brand. The percentage or our customers are below, as so their preferences: "
   ]
  },
  {
   "cell_type": "code",
   "execution_count": 73,
   "metadata": {
    "collapsed": false
   },
   "outputs": [
    {
     "data": {
      "text/html": [
       "<div>\n",
       "<table border=\"1\" class=\"dataframe\">\n",
       "  <thead>\n",
       "    <tr style=\"text-align: right;\">\n",
       "      <th>Reward</th>\n",
       "      <th>Air Miles</th>\n",
       "      <th>Cash Back</th>\n",
       "      <th>Points</th>\n",
       "      <th>Total</th>\n",
       "      <th>% Customers</th>\n",
       "    </tr>\n",
       "    <tr>\n",
       "      <th>Income Level</th>\n",
       "      <th></th>\n",
       "      <th></th>\n",
       "      <th></th>\n",
       "      <th></th>\n",
       "      <th></th>\n",
       "    </tr>\n",
       "  </thead>\n",
       "  <tbody>\n",
       "    <tr>\n",
       "      <th>High</th>\n",
       "      <td>1494</td>\n",
       "      <td>1538</td>\n",
       "      <td>1494</td>\n",
       "      <td>4526</td>\n",
       "      <td>25.1%</td>\n",
       "    </tr>\n",
       "    <tr>\n",
       "      <th>Low</th>\n",
       "      <td>1538</td>\n",
       "      <td>1467</td>\n",
       "      <td>1456</td>\n",
       "      <td>4461</td>\n",
       "      <td>24.8%</td>\n",
       "    </tr>\n",
       "    <tr>\n",
       "      <th>Medium</th>\n",
       "      <td>3029</td>\n",
       "      <td>2994</td>\n",
       "      <td>2990</td>\n",
       "      <td>9013</td>\n",
       "      <td>50.1%</td>\n",
       "    </tr>\n",
       "  </tbody>\n",
       "</table>\n",
       "</div>"
      ],
      "text/plain": [
       "Reward        Air Miles  Cash Back  Points  Total % Customers\n",
       "Income Level                                                 \n",
       "High               1494       1538    1494   4526       25.1%\n",
       "Low                1538       1467    1456   4461       24.8%\n",
       "Medium             3029       2994    2990   9013       50.1%"
      ]
     },
     "execution_count": 73,
     "metadata": {},
     "output_type": "execute_result"
    }
   ],
   "source": [
    "df_dados_cruzados = pd.crosstab(credit_card['Income Level'], credit_card['Reward'])\n",
    "df_dados_cruzados['Total'] = df_dados_cruzados.sum(axis=1)\n",
    "df_dados_cruzados['% Customers'] = credit_card['Income Level'].value_counts(normalize=True).mul(100).round(1).astype(str) + '%'\n",
    "df_dados_cruzados"
   ]
  },
  {
   "cell_type": "markdown",
   "metadata": {},
   "source": [
    "As demonstrated in our table above, our client is very faithful to our methods and rewards, and we can take the following conclusion based in our second chart (below): \n",
    "- Most of our customers' spending is rewarded by Air Miles, so the financial volume and number of subscribers is higher in this category, but the audience that prefers Cashback has grown a lot over new business and technology advances, and thus we need to adapt our business model to satisfy this beech of the public and have greater market share."
   ]
  },
  {
   "cell_type": "code",
   "execution_count": 74,
   "metadata": {
    "collapsed": false
   },
   "outputs": [
    {
     "data": {
      "image/png": "[encoded data removed]",
      "text/plain": [
       "<matplotlib.figure.Figure at 0x2ac36296048>"
      ]
     },
     "metadata": {},
     "output_type": "display_data"
    }
   ],
   "source": [
    "ax = df.plot(kind='bar', figsize=(8,4), color = ['indigo', 'purple', 'orchid'], fontsize=13, legend = None);\n",
    "ax.set_yticks([ 2000000, 4000000, 6000000, 8000000])\n",
    "plt.title('2. Balance by Reward')\n",
    "for i in ax.patches:\n",
    "    ax.text(i.get_x(), i.get_height(), \\\n",
    "            ('${:,.2f}'.format(i.get_height())), fontsize=14, color='black',\n",
    "                rotation=0)"
   ]
  },
  {
   "cell_type": "markdown",
   "metadata": {},
   "source": [
    "# Conclusion"
   ]
  },
  {
   "cell_type": "markdown",
   "metadata": {},
   "source": [
    "\n",
    "<p> \n",
    "Our main goal is to be present in people's lives and reward them through their spending. When we perform these types of analyzes, we seek to understand the profile of our customers and how they behave, thereby generating a worthwhile differential for our customer. Thus we find two niche markets that may be paramount to our development: Our most loyal clients and new clients looking for new solutions to their financial lives. Creating a specific product for each type of customer is a solution that will make old customers like our company even more and even spread it to friends and families, increasing our impact as a brand; And the creation of a product specific to new customers, with greater competitive advantages, such as points that never expire, or combinable points, that he can have access to any type of product or discounts on his invoices or cashbacks.\n",
    "</p>\n"
   ]
  },
  {
   "cell_type": "markdown",
   "metadata": {},
   "source": [
    "# Next Steps"
   ]
  },
  {
   "cell_type": "markdown",
   "metadata": {},
   "source": [
    "- 1) Given that we have to kind of publics in our target, we have to draw different kind of approachs and products;\n",
    "- 2) We should focus on our second type of audience, and start sending notifications and pushs with double score boosts, and high return of cash back at certain times of the day, such as at lunchtime or on weekends, to encourage card usage and increase revenue through it.\n",
    "- 3) The product that should be developed for loyal customers in the area should be partnered with air travel companies to offer better rates and conditions to customers, and the higher the level of spending and use of cards, the greater the benefits with airline tickets. last minute promotion, even discount coupons sent via random notifications to certain customer groups."
   ]
  },
  {
   "cell_type": "code",
   "execution_count": null,
   "metadata": {
    "collapsed": true
   },
   "outputs": [],
   "source": []
  }
 ],
 "metadata": {
  "kernelspec": {
   "display_name": "Python 3",
   "language": "python",
   "name": "python3"
  },
  "language_info": {
   "codemirror_mode": {
    "name": "ipython",
    "version": 3
   },
   "file_extension": ".py",
   "mimetype": "text/x-python",
   "name": "python",
   "nbconvert_exporter": "python",
   "pygments_lexer": "ipython3",
   "version": "3.6.0"
  }
 },
 "nbformat": 4,
 "nbformat_minor": 2
}
